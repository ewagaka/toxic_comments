{
  "cells": [
    {
      "cell_type": "markdown",
      "metadata": {
        "id": "YRHzEUL-VoUU"
      },
      "source": [
        "First I'm mounting my Google drive to load data"
      ]
    },
    {
      "cell_type": "code",
      "execution_count": null,
      "metadata": {
        "id": "DGMIxpO-H7nk"
      },
      "outputs": [],
      "source": [
        "import os\n",
        "from google.colab import drive\n",
        "drive.mount('/content/drive')\n",
        "!ls \"/content/drive/My Drive/Colab Notebooks\""
      ]
    },
    {
      "cell_type": "markdown",
      "metadata": {
        "id": "dxMOxZrJVoUb"
      },
      "source": [
        "Now let's prepare imports and glove embedding"
      ]
    },
    {
      "cell_type": "code",
      "execution_count": 2,
      "metadata": {
        "colab": {
          "base_uri": "https://localhost:8080/"
        },
        "id": "DfGEnUZfbCgd",
        "outputId": "c5668bab-845d-4319-88a3-d80e38f09ef2"
      },
      "outputs": [
        {
          "output_type": "stream",
          "name": "stdout",
          "text": [
            "--2022-09-08 18:23:30--  http://nlp.stanford.edu/data/glove.6B.zip\n",
            "Resolving nlp.stanford.edu (nlp.stanford.edu)... 171.64.67.140\n",
            "Connecting to nlp.stanford.edu (nlp.stanford.edu)|171.64.67.140|:80... connected.\n",
            "HTTP request sent, awaiting response... 302 Found\n",
            "Location: https://nlp.stanford.edu/data/glove.6B.zip [following]\n",
            "--2022-09-08 18:23:30--  https://nlp.stanford.edu/data/glove.6B.zip\n",
            "Connecting to nlp.stanford.edu (nlp.stanford.edu)|171.64.67.140|:443... connected.\n",
            "HTTP request sent, awaiting response... 301 Moved Permanently\n",
            "Location: https://downloads.cs.stanford.edu/nlp/data/glove.6B.zip [following]\n",
            "--2022-09-08 18:23:30--  https://downloads.cs.stanford.edu/nlp/data/glove.6B.zip\n",
            "Resolving downloads.cs.stanford.edu (downloads.cs.stanford.edu)... 171.64.64.22\n",
            "Connecting to downloads.cs.stanford.edu (downloads.cs.stanford.edu)|171.64.64.22|:443... connected.\n",
            "HTTP request sent, awaiting response... 200 OK\n",
            "Length: 862182613 (822M) [application/zip]\n",
            "Saving to: ‘glove.6B.zip’\n",
            "\n",
            "glove.6B.zip        100%[===================>] 822.24M  4.88MB/s    in 2m 42s  \n",
            "\n",
            "2022-09-08 18:26:13 (5.07 MB/s) - ‘glove.6B.zip’ saved [862182613/862182613]\n",
            "\n"
          ]
        }
      ],
      "source": [
        "!wget http://nlp.stanford.edu/data/glove.6B.zip\n",
        "!unzip -q glove.6B.zip"
      ]
    },
    {
      "cell_type": "code",
      "execution_count": 3,
      "metadata": {
        "id": "Lmnx_ePKIwdi"
      },
      "outputs": [],
      "source": [
        "import pandas as pd\n",
        "import seaborn as sns\n",
        "import numpy as np\n",
        "from tensorflow import keras\n",
        "from tensorflow.keras.preprocessing.text import Tokenizer\n",
        "from tensorflow.keras.preprocessing.sequence import pad_sequences\n",
        "import tensorflow.keras.layers as layers\n",
        "from sklearn.model_selection import train_test_split\n",
        "from collections import Counter\n",
        "import matplotlib.pyplot as plt"
      ]
    },
    {
      "cell_type": "code",
      "execution_count": null,
      "metadata": {
        "id": "y6zZQwR7a8_F"
      },
      "outputs": [],
      "source": [
        "class GloveEmbeddings(layers.Layer):\n",
        "  def __init__(self, embedding_dim, trainable, tokenizer):\n",
        "    \"\"\"\n",
        "    embedding_dim - embedding dimension, we can choose 50, 100, 200 or 300\n",
        "    trainable - if True embedding will be modified during training, \n",
        "    tokenizer - tokenizer reference\n",
        "\n",
        "    code adapted from https://keras.io/examples/nlp/pretrained_word_embeddings/\n",
        "    \"\"\"\n",
        "    super().__init__()\n",
        "\n",
        "    path_to_glove_file = f\"glove.6B.{embedding_dim}d.txt\"\n",
        "    embeddings_index = {}\n",
        "    with open(path_to_glove_file) as f:\n",
        "        for line in f:\n",
        "            word, coefs = line.split(maxsplit=1)\n",
        "            coefs = np.fromstring(coefs, \"f\", sep=\" \")\n",
        "            embeddings_index[word] = coefs\n",
        "\n",
        "    print(\"Found %s word vectors.\" % len(embeddings_index))\n",
        "\n",
        "\n",
        "    num_tokens = len(tokenizer.index_word) + 2\n",
        "    hits = 0\n",
        "    misses = 0\n",
        "\n",
        "    embedding_matrix = np.zeros((num_tokens, embedding_dim))\n",
        "    for word, i in tokenizer.word_index.items():\n",
        "        embedding_vector = embeddings_index.get(word)\n",
        "        if embedding_vector is not None:\n",
        "            # Words not found in embedding index will be all-zeros.\n",
        "            # This includes the representation for \"padding\" and \"OOV\"\n",
        "            embedding_matrix[i] = embedding_vector\n",
        "            hits += 1\n",
        "        else:\n",
        "            misses += 1\n",
        "    print(\"Converted %d words (%d misses)\" % (hits, misses))\n",
        "\n",
        "    self.embedding = layers.Embedding(input_dim=num_tokens, output_dim=embedding_dim,\n",
        "                                      embeddings_initializer=keras.initializers.Constant(embedding_matrix), trainable=trainable)\n",
        "    \n",
        "  def call(self, inputs, training=False):\n",
        "    \"\"\"\n",
        "    in: [batch size x seq len]\n",
        "    out: [batch size x seq len x embedding_dim]\n",
        "    \"\"\"\n",
        "    return self.embedding(inputs, training=training)"
      ]
    },
    {
      "cell_type": "code",
      "execution_count": 4,
      "metadata": {
        "id": "x9zSUKZgIzn8"
      },
      "outputs": [],
      "source": [
        "#loading data\n",
        "toxic = pd.read_csv(\"/content/drive/My Drive/Colab Notebooks/toxic_comments.csv\")"
      ]
    },
    {
      "cell_type": "code",
      "execution_count": null,
      "metadata": {
        "colab": {
          "base_uri": "https://localhost:8080/",
          "height": 595
        },
        "id": "umROjG6II_zW",
        "outputId": "6bace347-9495-4243-f39b-204f5445db62"
      },
      "outputs": [
        {
          "data": {
            "text/html": [
              "\n",
              "  <div id=\"df-1c05e121-86a3-4ab7-b48e-aa7c83c2f09d\">\n",
              "    <div class=\"colab-df-container\">\n",
              "      <div>\n",
              "<style scoped>\n",
              "    .dataframe tbody tr th:only-of-type {\n",
              "        vertical-align: middle;\n",
              "    }\n",
              "\n",
              "    .dataframe tbody tr th {\n",
              "        vertical-align: top;\n",
              "    }\n",
              "\n",
              "    .dataframe thead th {\n",
              "        text-align: right;\n",
              "    }\n",
              "</style>\n",
              "<table border=\"1\" class=\"dataframe\">\n",
              "  <thead>\n",
              "    <tr style=\"text-align: right;\">\n",
              "      <th></th>\n",
              "      <th>id</th>\n",
              "      <th>target</th>\n",
              "      <th>comment_text</th>\n",
              "      <th>severe_toxicity</th>\n",
              "      <th>obscene</th>\n",
              "      <th>identity_attack</th>\n",
              "      <th>insult</th>\n",
              "      <th>threat</th>\n",
              "      <th>asian</th>\n",
              "      <th>atheist</th>\n",
              "      <th>...</th>\n",
              "      <th>article_id</th>\n",
              "      <th>rating</th>\n",
              "      <th>funny</th>\n",
              "      <th>wow</th>\n",
              "      <th>sad</th>\n",
              "      <th>likes</th>\n",
              "      <th>disagree</th>\n",
              "      <th>sexual_explicit</th>\n",
              "      <th>identity_annotator_count</th>\n",
              "      <th>toxicity_annotator_count</th>\n",
              "    </tr>\n",
              "  </thead>\n",
              "  <tbody>\n",
              "    <tr>\n",
              "      <th>0</th>\n",
              "      <td>59848</td>\n",
              "      <td>0.000000</td>\n",
              "      <td>This is so cool. It's like, 'would you want yo...</td>\n",
              "      <td>0.000000</td>\n",
              "      <td>0.000000</td>\n",
              "      <td>0.000000</td>\n",
              "      <td>0.000000</td>\n",
              "      <td>0.0</td>\n",
              "      <td>NaN</td>\n",
              "      <td>NaN</td>\n",
              "      <td>...</td>\n",
              "      <td>2006</td>\n",
              "      <td>rejected</td>\n",
              "      <td>0</td>\n",
              "      <td>0</td>\n",
              "      <td>0</td>\n",
              "      <td>0</td>\n",
              "      <td>0</td>\n",
              "      <td>0.000000</td>\n",
              "      <td>0</td>\n",
              "      <td>4</td>\n",
              "    </tr>\n",
              "    <tr>\n",
              "      <th>1</th>\n",
              "      <td>59849</td>\n",
              "      <td>0.000000</td>\n",
              "      <td>Thank you!! This would make my life a lot less...</td>\n",
              "      <td>0.000000</td>\n",
              "      <td>0.000000</td>\n",
              "      <td>0.000000</td>\n",
              "      <td>0.000000</td>\n",
              "      <td>0.0</td>\n",
              "      <td>NaN</td>\n",
              "      <td>NaN</td>\n",
              "      <td>...</td>\n",
              "      <td>2006</td>\n",
              "      <td>rejected</td>\n",
              "      <td>0</td>\n",
              "      <td>0</td>\n",
              "      <td>0</td>\n",
              "      <td>0</td>\n",
              "      <td>0</td>\n",
              "      <td>0.000000</td>\n",
              "      <td>0</td>\n",
              "      <td>4</td>\n",
              "    </tr>\n",
              "    <tr>\n",
              "      <th>2</th>\n",
              "      <td>59852</td>\n",
              "      <td>0.000000</td>\n",
              "      <td>This is such an urgent design problem; kudos t...</td>\n",
              "      <td>0.000000</td>\n",
              "      <td>0.000000</td>\n",
              "      <td>0.000000</td>\n",
              "      <td>0.000000</td>\n",
              "      <td>0.0</td>\n",
              "      <td>NaN</td>\n",
              "      <td>NaN</td>\n",
              "      <td>...</td>\n",
              "      <td>2006</td>\n",
              "      <td>rejected</td>\n",
              "      <td>0</td>\n",
              "      <td>0</td>\n",
              "      <td>0</td>\n",
              "      <td>0</td>\n",
              "      <td>0</td>\n",
              "      <td>0.000000</td>\n",
              "      <td>0</td>\n",
              "      <td>4</td>\n",
              "    </tr>\n",
              "    <tr>\n",
              "      <th>3</th>\n",
              "      <td>59855</td>\n",
              "      <td>0.000000</td>\n",
              "      <td>Is this something I'll be able to install on m...</td>\n",
              "      <td>0.000000</td>\n",
              "      <td>0.000000</td>\n",
              "      <td>0.000000</td>\n",
              "      <td>0.000000</td>\n",
              "      <td>0.0</td>\n",
              "      <td>NaN</td>\n",
              "      <td>NaN</td>\n",
              "      <td>...</td>\n",
              "      <td>2006</td>\n",
              "      <td>rejected</td>\n",
              "      <td>0</td>\n",
              "      <td>0</td>\n",
              "      <td>0</td>\n",
              "      <td>0</td>\n",
              "      <td>0</td>\n",
              "      <td>0.000000</td>\n",
              "      <td>0</td>\n",
              "      <td>4</td>\n",
              "    </tr>\n",
              "    <tr>\n",
              "      <th>4</th>\n",
              "      <td>59856</td>\n",
              "      <td>0.893617</td>\n",
              "      <td>haha you guys are a bunch of losers.</td>\n",
              "      <td>0.021277</td>\n",
              "      <td>0.000000</td>\n",
              "      <td>0.021277</td>\n",
              "      <td>0.872340</td>\n",
              "      <td>0.0</td>\n",
              "      <td>0.0</td>\n",
              "      <td>0.0</td>\n",
              "      <td>...</td>\n",
              "      <td>2006</td>\n",
              "      <td>rejected</td>\n",
              "      <td>0</td>\n",
              "      <td>0</td>\n",
              "      <td>0</td>\n",
              "      <td>1</td>\n",
              "      <td>0</td>\n",
              "      <td>0.000000</td>\n",
              "      <td>4</td>\n",
              "      <td>47</td>\n",
              "    </tr>\n",
              "    <tr>\n",
              "      <th>5</th>\n",
              "      <td>59859</td>\n",
              "      <td>0.666667</td>\n",
              "      <td>ur a sh*tty comment.</td>\n",
              "      <td>0.047619</td>\n",
              "      <td>0.638095</td>\n",
              "      <td>0.000000</td>\n",
              "      <td>0.333333</td>\n",
              "      <td>0.0</td>\n",
              "      <td>NaN</td>\n",
              "      <td>NaN</td>\n",
              "      <td>...</td>\n",
              "      <td>2006</td>\n",
              "      <td>rejected</td>\n",
              "      <td>0</td>\n",
              "      <td>0</td>\n",
              "      <td>0</td>\n",
              "      <td>0</td>\n",
              "      <td>0</td>\n",
              "      <td>0.009524</td>\n",
              "      <td>0</td>\n",
              "      <td>105</td>\n",
              "    </tr>\n",
              "    <tr>\n",
              "      <th>6</th>\n",
              "      <td>59861</td>\n",
              "      <td>0.457627</td>\n",
              "      <td>hahahahahahahahhha suck it.</td>\n",
              "      <td>0.050847</td>\n",
              "      <td>0.305085</td>\n",
              "      <td>0.000000</td>\n",
              "      <td>0.254237</td>\n",
              "      <td>0.0</td>\n",
              "      <td>NaN</td>\n",
              "      <td>NaN</td>\n",
              "      <td>...</td>\n",
              "      <td>2006</td>\n",
              "      <td>rejected</td>\n",
              "      <td>0</td>\n",
              "      <td>0</td>\n",
              "      <td>0</td>\n",
              "      <td>0</td>\n",
              "      <td>0</td>\n",
              "      <td>0.220339</td>\n",
              "      <td>0</td>\n",
              "      <td>59</td>\n",
              "    </tr>\n",
              "    <tr>\n",
              "      <th>7</th>\n",
              "      <td>59863</td>\n",
              "      <td>0.000000</td>\n",
              "      <td>FFFFUUUUUUUUUUUUUUU</td>\n",
              "      <td>0.000000</td>\n",
              "      <td>0.000000</td>\n",
              "      <td>0.000000</td>\n",
              "      <td>0.000000</td>\n",
              "      <td>0.0</td>\n",
              "      <td>NaN</td>\n",
              "      <td>NaN</td>\n",
              "      <td>...</td>\n",
              "      <td>2006</td>\n",
              "      <td>rejected</td>\n",
              "      <td>0</td>\n",
              "      <td>0</td>\n",
              "      <td>0</td>\n",
              "      <td>0</td>\n",
              "      <td>0</td>\n",
              "      <td>0.000000</td>\n",
              "      <td>0</td>\n",
              "      <td>4</td>\n",
              "    </tr>\n",
              "    <tr>\n",
              "      <th>8</th>\n",
              "      <td>239575</td>\n",
              "      <td>0.000000</td>\n",
              "      <td>The ranchers seem motivated by mostly by greed...</td>\n",
              "      <td>0.000000</td>\n",
              "      <td>0.000000</td>\n",
              "      <td>0.000000</td>\n",
              "      <td>0.000000</td>\n",
              "      <td>0.0</td>\n",
              "      <td>NaN</td>\n",
              "      <td>NaN</td>\n",
              "      <td>...</td>\n",
              "      <td>26662</td>\n",
              "      <td>approved</td>\n",
              "      <td>0</td>\n",
              "      <td>0</td>\n",
              "      <td>0</td>\n",
              "      <td>0</td>\n",
              "      <td>0</td>\n",
              "      <td>0.000000</td>\n",
              "      <td>0</td>\n",
              "      <td>4</td>\n",
              "    </tr>\n",
              "    <tr>\n",
              "      <th>9</th>\n",
              "      <td>239576</td>\n",
              "      <td>0.000000</td>\n",
              "      <td>It was a great show. Not a combo I'd of expect...</td>\n",
              "      <td>0.000000</td>\n",
              "      <td>0.000000</td>\n",
              "      <td>0.000000</td>\n",
              "      <td>0.000000</td>\n",
              "      <td>0.0</td>\n",
              "      <td>NaN</td>\n",
              "      <td>NaN</td>\n",
              "      <td>...</td>\n",
              "      <td>26650</td>\n",
              "      <td>approved</td>\n",
              "      <td>0</td>\n",
              "      <td>0</td>\n",
              "      <td>0</td>\n",
              "      <td>1</td>\n",
              "      <td>0</td>\n",
              "      <td>0.000000</td>\n",
              "      <td>0</td>\n",
              "      <td>4</td>\n",
              "    </tr>\n",
              "  </tbody>\n",
              "</table>\n",
              "<p>10 rows × 45 columns</p>\n",
              "</div>\n",
              "      <button class=\"colab-df-convert\" onclick=\"convertToInteractive('df-1c05e121-86a3-4ab7-b48e-aa7c83c2f09d')\"\n",
              "              title=\"Convert this dataframe to an interactive table.\"\n",
              "              style=\"display:none;\">\n",
              "        \n",
              "  <svg xmlns=\"http://www.w3.org/2000/svg\" height=\"24px\"viewBox=\"0 0 24 24\"\n",
              "       width=\"24px\">\n",
              "    <path d=\"M0 0h24v24H0V0z\" fill=\"none\"/>\n",
              "    <path d=\"M18.56 5.44l.94 2.06.94-2.06 2.06-.94-2.06-.94-.94-2.06-.94 2.06-2.06.94zm-11 1L8.5 8.5l.94-2.06 2.06-.94-2.06-.94L8.5 2.5l-.94 2.06-2.06.94zm10 10l.94 2.06.94-2.06 2.06-.94-2.06-.94-.94-2.06-.94 2.06-2.06.94z\"/><path d=\"M17.41 7.96l-1.37-1.37c-.4-.4-.92-.59-1.43-.59-.52 0-1.04.2-1.43.59L10.3 9.45l-7.72 7.72c-.78.78-.78 2.05 0 2.83L4 21.41c.39.39.9.59 1.41.59.51 0 1.02-.2 1.41-.59l7.78-7.78 2.81-2.81c.8-.78.8-2.07 0-2.86zM5.41 20L4 18.59l7.72-7.72 1.47 1.35L5.41 20z\"/>\n",
              "  </svg>\n",
              "      </button>\n",
              "      \n",
              "  <style>\n",
              "    .colab-df-container {\n",
              "      display:flex;\n",
              "      flex-wrap:wrap;\n",
              "      gap: 12px;\n",
              "    }\n",
              "\n",
              "    .colab-df-convert {\n",
              "      background-color: #E8F0FE;\n",
              "      border: none;\n",
              "      border-radius: 50%;\n",
              "      cursor: pointer;\n",
              "      display: none;\n",
              "      fill: #1967D2;\n",
              "      height: 32px;\n",
              "      padding: 0 0 0 0;\n",
              "      width: 32px;\n",
              "    }\n",
              "\n",
              "    .colab-df-convert:hover {\n",
              "      background-color: #E2EBFA;\n",
              "      box-shadow: 0px 1px 2px rgba(60, 64, 67, 0.3), 0px 1px 3px 1px rgba(60, 64, 67, 0.15);\n",
              "      fill: #174EA6;\n",
              "    }\n",
              "\n",
              "    [theme=dark] .colab-df-convert {\n",
              "      background-color: #3B4455;\n",
              "      fill: #D2E3FC;\n",
              "    }\n",
              "\n",
              "    [theme=dark] .colab-df-convert:hover {\n",
              "      background-color: #434B5C;\n",
              "      box-shadow: 0px 1px 3px 1px rgba(0, 0, 0, 0.15);\n",
              "      filter: drop-shadow(0px 1px 2px rgba(0, 0, 0, 0.3));\n",
              "      fill: #FFFFFF;\n",
              "    }\n",
              "  </style>\n",
              "\n",
              "      <script>\n",
              "        const buttonEl =\n",
              "          document.querySelector('#df-1c05e121-86a3-4ab7-b48e-aa7c83c2f09d button.colab-df-convert');\n",
              "        buttonEl.style.display =\n",
              "          google.colab.kernel.accessAllowed ? 'block' : 'none';\n",
              "\n",
              "        async function convertToInteractive(key) {\n",
              "          const element = document.querySelector('#df-1c05e121-86a3-4ab7-b48e-aa7c83c2f09d');\n",
              "          const dataTable =\n",
              "            await google.colab.kernel.invokeFunction('convertToInteractive',\n",
              "                                                     [key], {});\n",
              "          if (!dataTable) return;\n",
              "\n",
              "          const docLinkHtml = 'Like what you see? Visit the ' +\n",
              "            '<a target=\"_blank\" href=https://colab.research.google.com/notebooks/data_table.ipynb>data table notebook</a>'\n",
              "            + ' to learn more about interactive tables.';\n",
              "          element.innerHTML = '';\n",
              "          dataTable['output_type'] = 'display_data';\n",
              "          await google.colab.output.renderOutput(dataTable, element);\n",
              "          const docLink = document.createElement('div');\n",
              "          docLink.innerHTML = docLinkHtml;\n",
              "          element.appendChild(docLink);\n",
              "        }\n",
              "      </script>\n",
              "    </div>\n",
              "  </div>\n",
              "  "
            ],
            "text/plain": [
              "       id    target                                       comment_text  \\\n",
              "0   59848  0.000000  This is so cool. It's like, 'would you want yo...   \n",
              "1   59849  0.000000  Thank you!! This would make my life a lot less...   \n",
              "2   59852  0.000000  This is such an urgent design problem; kudos t...   \n",
              "3   59855  0.000000  Is this something I'll be able to install on m...   \n",
              "4   59856  0.893617               haha you guys are a bunch of losers.   \n",
              "5   59859  0.666667                               ur a sh*tty comment.   \n",
              "6   59861  0.457627                        hahahahahahahahhha suck it.   \n",
              "7   59863  0.000000                                FFFFUUUUUUUUUUUUUUU   \n",
              "8  239575  0.000000  The ranchers seem motivated by mostly by greed...   \n",
              "9  239576  0.000000  It was a great show. Not a combo I'd of expect...   \n",
              "\n",
              "   severe_toxicity   obscene  identity_attack    insult  threat  asian  \\\n",
              "0         0.000000  0.000000         0.000000  0.000000     0.0    NaN   \n",
              "1         0.000000  0.000000         0.000000  0.000000     0.0    NaN   \n",
              "2         0.000000  0.000000         0.000000  0.000000     0.0    NaN   \n",
              "3         0.000000  0.000000         0.000000  0.000000     0.0    NaN   \n",
              "4         0.021277  0.000000         0.021277  0.872340     0.0    0.0   \n",
              "5         0.047619  0.638095         0.000000  0.333333     0.0    NaN   \n",
              "6         0.050847  0.305085         0.000000  0.254237     0.0    NaN   \n",
              "7         0.000000  0.000000         0.000000  0.000000     0.0    NaN   \n",
              "8         0.000000  0.000000         0.000000  0.000000     0.0    NaN   \n",
              "9         0.000000  0.000000         0.000000  0.000000     0.0    NaN   \n",
              "\n",
              "   atheist  ...  article_id    rating  funny  wow  sad  likes  disagree  \\\n",
              "0      NaN  ...        2006  rejected      0    0    0      0         0   \n",
              "1      NaN  ...        2006  rejected      0    0    0      0         0   \n",
              "2      NaN  ...        2006  rejected      0    0    0      0         0   \n",
              "3      NaN  ...        2006  rejected      0    0    0      0         0   \n",
              "4      0.0  ...        2006  rejected      0    0    0      1         0   \n",
              "5      NaN  ...        2006  rejected      0    0    0      0         0   \n",
              "6      NaN  ...        2006  rejected      0    0    0      0         0   \n",
              "7      NaN  ...        2006  rejected      0    0    0      0         0   \n",
              "8      NaN  ...       26662  approved      0    0    0      0         0   \n",
              "9      NaN  ...       26650  approved      0    0    0      1         0   \n",
              "\n",
              "   sexual_explicit  identity_annotator_count  toxicity_annotator_count  \n",
              "0         0.000000                         0                         4  \n",
              "1         0.000000                         0                         4  \n",
              "2         0.000000                         0                         4  \n",
              "3         0.000000                         0                         4  \n",
              "4         0.000000                         4                        47  \n",
              "5         0.009524                         0                       105  \n",
              "6         0.220339                         0                        59  \n",
              "7         0.000000                         0                         4  \n",
              "8         0.000000                         0                         4  \n",
              "9         0.000000                         0                         4  \n",
              "\n",
              "[10 rows x 45 columns]"
            ]
          },
          "execution_count": 6,
          "metadata": {},
          "output_type": "execute_result"
        }
      ],
      "source": [
        "#how the data looks like\n",
        "toxic.head(10)"
      ]
    },
    {
      "cell_type": "markdown",
      "metadata": {
        "id": "93iWHTSwVoUk"
      },
      "source": [
        "First I will build model to a classification model, therefore I must change target to 0 and 1"
      ]
    },
    {
      "cell_type": "code",
      "execution_count": null,
      "metadata": {
        "colab": {
          "base_uri": "https://localhost:8080/"
        },
        "id": "MjsxYDgOJ5d7",
        "outputId": "abf9fd3b-2410-4fb6-95bf-d57768d957b4"
      },
      "outputs": [
        {
          "data": {
            "text/plain": [
              "0    1660540\n",
              "1     144334\n",
              "Name: binary_target, dtype: int64"
            ]
          },
          "execution_count": 6,
          "metadata": {},
          "output_type": "execute_result"
        }
      ],
      "source": [
        "toxic['binary_target'] = toxic['target'].apply(lambda target: 1 if target>=0.5 else 0)\n",
        "toxic['binary_target'].value_counts()"
      ]
    },
    {
      "cell_type": "code",
      "execution_count": null,
      "metadata": {
        "id": "rWjg6_slS8Bd"
      },
      "outputs": [],
      "source": [
        "#it is inbalanced data so I will use under sampling\n",
        "toxic_data = toxic[[\"comment_text\", 'binary_target']]\n",
        "shuffled_toxic = toxic_data.sample(frac=1,random_state=42)\n",
        "tox_df = shuffled_toxic.loc[shuffled_toxic['binary_target'] == 1]\n",
        "no_tox_df = shuffled_toxic.loc[shuffled_toxic['binary_target'] == 0].sample(n=144334,random_state=42)\n",
        "normalized_toxic = pd.concat([tox_df, no_tox_df])"
      ]
    },
    {
      "cell_type": "code",
      "execution_count": null,
      "metadata": {
        "colab": {
          "base_uri": "https://localhost:8080/"
        },
        "id": "ZMeQI0brUORQ",
        "outputId": "21154a52-fd94-4023-846b-8d08dde4efba"
      },
      "outputs": [
        {
          "data": {
            "text/plain": [
              "1    144334\n",
              "0    144334\n",
              "Name: binary_target, dtype: int64"
            ]
          },
          "execution_count": 10,
          "metadata": {},
          "output_type": "execute_result"
        }
      ],
      "source": [
        "normalized_toxic['binary_target'].value_counts()"
      ]
    },
    {
      "cell_type": "code",
      "execution_count": null,
      "metadata": {
        "colab": {
          "base_uri": "https://localhost:8080/"
        },
        "id": "WgGT3tZZVmRM",
        "outputId": "db9a42ca-49d8-44f9-ee7a-f610b7b953eb"
      },
      "outputs": [
        {
          "name": "stdout",
          "output_type": "stream",
          "text": [
            "Training target statistics: Counter({1: 115467, 0: 115467})\n",
            "Testing target statistics: Counter({1: 28867, 0: 28867})\n"
          ]
        }
      ],
      "source": [
        "#  let's create train and test set\n",
        "y = normalized_toxic['binary_target'].values\n",
        "X = normalized_toxic['comment_text'].values\n",
        "\n",
        "X_train, X_test, y_train, y_test = train_test_split(X, y, test_size=0.2, random_state=100, stratify=y)\n",
        "print(f\"Training target statistics: {Counter(y_train)}\")\n",
        "print(f\"Testing target statistics: {Counter(y_test)}\")"
      ]
    },
    {
      "cell_type": "code",
      "execution_count": null,
      "metadata": {
        "colab": {
          "base_uri": "https://localhost:8080/",
          "height": 53
        },
        "id": "H9eiCVQ7XrOW",
        "outputId": "a4e9ec69-65b9-424e-b7c7-a89079628c58"
      },
      "outputs": [
        {
          "data": {
            "application/vnd.google.colaboratory.intrinsic+json": {
              "type": "string"
            },
            "text/plain": [
              "\"130mph? Throw his ass in jail...then throw away the key.  Nothing else seems to get these punks attention. Oh, I know...his momma says he's actually a good boy who would never harm a flea.\""
            ]
          },
          "execution_count": 12,
          "metadata": {},
          "output_type": "execute_result"
        }
      ],
      "source": [
        "X_train[0]"
      ]
    },
    {
      "cell_type": "code",
      "execution_count": null,
      "metadata": {
        "colab": {
          "base_uri": "https://localhost:8080/",
          "height": 320
        },
        "id": "I4zmiEXJX0IK",
        "outputId": "da5af262-a3ea-4ac6-9fdd-de6303b703e4"
      },
      "outputs": [
        {
          "name": "stderr",
          "output_type": "stream",
          "text": [
            "/usr/local/lib/python3.7/dist-packages/seaborn/distributions.py:2619: FutureWarning: `distplot` is a deprecated function and will be removed in a future version. Please adapt your code to use either `displot` (a figure-level function with similar flexibility) or `histplot` (an axes-level function for histograms).\n",
            "  warnings.warn(msg, FutureWarning)\n"
          ]
        },
        {
          "data": {
            "image/png": "[encoded data removed]",
            "text/plain": [
              "<Figure size 432x288 with 1 Axes>"
            ]
          },
          "metadata": {
            "needs_background": "light"
          },
          "output_type": "display_data"
        }
      ],
      "source": [
        "#Now, we will see how long are words in our train set\n",
        "train_lens = [len(x.split()) for x in X_train]\n",
        "ax = sns.distplot(train_lens)\n",
        "\n",
        "#it seems that max length 200 will be right choice"
      ]
    },
    {
      "cell_type": "code",
      "execution_count": null,
      "metadata": {
        "id": "COjJLGMKYvCg"
      },
      "outputs": [],
      "source": [
        "#preparing data for model\n",
        "tokenizer = Tokenizer(num_words=15000, lower=True)\n",
        "tokenizer.fit_on_texts(X_train)\n",
        "\n",
        "X_train_seq = tokenizer.texts_to_sequences(X_train)\n",
        "X_val_seq = tokenizer.texts_to_sequences(X_test)\n",
        "\n",
        "X_train_seq = pad_sequences(X_train_seq, maxlen=200, padding='pre', truncating='pre') # pre or post\n",
        "X_val_seq = pad_sequences(X_val_seq, maxlen=200, padding='pre', truncating='pre') # pre or post"
      ]
    },
    {
      "cell_type": "code",
      "execution_count": null,
      "metadata": {
        "colab": {
          "base_uri": "https://localhost:8080/"
        },
        "id": "kZeHguVPccHB",
        "outputId": "e0ca2954-86bb-4db2-a367-fe6b4dc4db7d"
      },
      "outputs": [
        {
          "name": "stdout",
          "output_type": "stream",
          "text": [
            "Found 400000 word vectors.\n",
            "Converted 71604 words (58620 misses)\n"
          ]
        }
      ],
      "source": [
        "#first model with Glovo embeddings\n",
        "model = keras.Sequential()\n",
        "\n",
        "model.add(GloveEmbeddings(embedding_dim=200, trainable=False, tokenizer=tokenizer))\n",
        "model.add(layers.Bidirectional(layers.LSTM(40)))\n",
        "model.add(layers.Dense(1, activation='sigmoid'))\n",
        "\n",
        "adam = keras.optimizers.Adam(learning_rate=0.001) # \n",
        "model.compile(loss='binary_crossentropy', optimizer=adam, metrics=['accuracy'])"
      ]
    },
    {
      "cell_type": "code",
      "execution_count": null,
      "metadata": {
        "colab": {
          "base_uri": "https://localhost:8080/"
        },
        "id": "mKIOFJoBeenr",
        "outputId": "003e63f6-ee38-4d6b-d5ed-d8c20c934b94"
      },
      "outputs": [
        {
          "name": "stdout",
          "output_type": "stream",
          "text": [
            "Epoch 1/100\n",
            "452/452 [==============================] - 23s 40ms/step - loss: 0.4334 - accuracy: 0.8003 - val_loss: 0.3690 - val_accuracy: 0.8407\n",
            "Epoch 2/100\n",
            "452/452 [==============================] - 18s 40ms/step - loss: 0.3423 - accuracy: 0.8530 - val_loss: 0.3311 - val_accuracy: 0.8582\n",
            "Epoch 3/100\n",
            "452/452 [==============================] - 18s 40ms/step - loss: 0.3181 - accuracy: 0.8649 - val_loss: 0.3143 - val_accuracy: 0.8670\n",
            "Epoch 4/100\n",
            "452/452 [==============================] - 18s 39ms/step - loss: 0.3043 - accuracy: 0.8721 - val_loss: 0.3057 - val_accuracy: 0.8709\n",
            "Epoch 5/100\n",
            "452/452 [==============================] - 18s 39ms/step - loss: 0.2944 - accuracy: 0.8769 - val_loss: 0.3036 - val_accuracy: 0.8734\n",
            "Epoch 6/100\n",
            "452/452 [==============================] - 18s 39ms/step - loss: 0.2870 - accuracy: 0.8811 - val_loss: 0.2971 - val_accuracy: 0.8768\n",
            "Epoch 7/100\n",
            "452/452 [==============================] - 18s 39ms/step - loss: 0.2807 - accuracy: 0.8840 - val_loss: 0.2936 - val_accuracy: 0.8785\n",
            "Epoch 8/100\n",
            "452/452 [==============================] - 18s 39ms/step - loss: 0.2762 - accuracy: 0.8865 - val_loss: 0.3036 - val_accuracy: 0.8747\n",
            "Epoch 9/100\n",
            "452/452 [==============================] - 17s 39ms/step - loss: 0.2707 - accuracy: 0.8890 - val_loss: 0.2895 - val_accuracy: 0.8804\n",
            "Epoch 10/100\n",
            "452/452 [==============================] - 18s 39ms/step - loss: 0.2660 - accuracy: 0.8915 - val_loss: 0.2889 - val_accuracy: 0.8810\n",
            "Epoch 11/100\n",
            "452/452 [==============================] - 18s 39ms/step - loss: 0.2622 - accuracy: 0.8928 - val_loss: 0.2905 - val_accuracy: 0.8807\n",
            "Epoch 12/100\n",
            "452/452 [==============================] - 18s 39ms/step - loss: 0.2585 - accuracy: 0.8946 - val_loss: 0.3063 - val_accuracy: 0.8748\n",
            "Epoch 13/100\n",
            "452/452 [==============================] - 18s 40ms/step - loss: 0.2554 - accuracy: 0.8961 - val_loss: 0.2936 - val_accuracy: 0.8796\n",
            "Epoch 14/100\n",
            "452/452 [==============================] - 18s 39ms/step - loss: 0.2517 - accuracy: 0.8976 - val_loss: 0.2895 - val_accuracy: 0.8817\n",
            "Epoch 15/100\n",
            "452/452 [==============================] - 18s 39ms/step - loss: 0.2482 - accuracy: 0.8993 - val_loss: 0.3032 - val_accuracy: 0.8737\n"
          ]
        }
      ],
      "source": [
        "es_callback = keras.callbacks.EarlyStopping(monitor='val_loss', patience=5)\n",
        "\n",
        "h = model.fit(x=X_train_seq, y=y_train, batch_size=512, epochs=100, validation_data=(X_val_seq, y_test),\n",
        "               callbacks=[es_callback])"
      ]
    },
    {
      "cell_type": "code",
      "execution_count": null,
      "metadata": {
        "colab": {
          "base_uri": "https://localhost:8080/",
          "height": 265
        },
        "id": "ZXSW3g-yhYY_",
        "outputId": "29b95f00-4156-4692-e540-716cb4c95d06"
      },
      "outputs": [
        {
          "data": {
            "image/png": "[encoded data removed]",
            "text/plain": [
              "<Figure size 432x288 with 1 Axes>"
            ]
          },
          "metadata": {
            "needs_background": "light"
          },
          "output_type": "display_data"
        }
      ],
      "source": [
        "steps = range(len(h.history['loss']))\n",
        "plt.plot(steps, h.history['loss'], label='train loss')\n",
        "plt.plot(steps, h.history['val_loss'], label='val loss')\n",
        "plt.legend()\n",
        "plt.grid()"
      ]
    },
    {
      "cell_type": "markdown",
      "metadata": {
        "id": "T_Ay-ApyVoUq"
      },
      "source": [
        "It looks like model is overfitted - next model will be with Dropout layers"
      ]
    },
    {
      "cell_type": "code",
      "execution_count": null,
      "metadata": {
        "colab": {
          "base_uri": "https://localhost:8080/"
        },
        "id": "XapblRvuhszo",
        "outputId": "cc1fc799-cc61-444c-816c-cc84ad2c6cbc"
      },
      "outputs": [
        {
          "name": "stdout",
          "output_type": "stream",
          "text": [
            "Found 400000 word vectors.\n",
            "Converted 71604 words (58620 misses)\n"
          ]
        }
      ],
      "source": [
        "#second model with Glove embeddings and dropout layers\n",
        "model1 = keras.Sequential()\n",
        "\n",
        "model1.add(GloveEmbeddings(embedding_dim=200, trainable=False, tokenizer=tokenizer))\n",
        "model1.add(layers.Bidirectional(layers.LSTM(30,return_sequences=True)))  \n",
        "model1.add(layers.Dropout(0.3)) \n",
        "model1.add(layers.LSTM(30)) \n",
        "model1.add(layers.Dropout(0.2)) \n",
        "model1.add(layers.Dense(1, activation='sigmoid'))\n",
        "\n",
        "adam = keras.optimizers.Adam(learning_rate=0.001)\n",
        "model1.compile(loss='binary_crossentropy', optimizer=adam, metrics=['accuracy'])"
      ]
    },
    {
      "cell_type": "code",
      "execution_count": null,
      "metadata": {
        "colab": {
          "base_uri": "https://localhost:8080/"
        },
        "id": "lqcFCpUKhtm4",
        "outputId": "df69578c-6f6b-4a15-f0c3-3e407329cb8c"
      },
      "outputs": [
        {
          "name": "stdout",
          "output_type": "stream",
          "text": [
            "Epoch 1/100\n",
            "452/452 [==============================] - 67s 55ms/step - loss: 0.4460 - accuracy: 0.7970 - val_loss: 0.3653 - val_accuracy: 0.8436\n",
            "Epoch 2/100\n",
            "452/452 [==============================] - 22s 49ms/step - loss: 0.3530 - accuracy: 0.8479 - val_loss: 0.3270 - val_accuracy: 0.8609\n",
            "Epoch 3/100\n",
            "452/452 [==============================] - 22s 49ms/step - loss: 0.3233 - accuracy: 0.8636 - val_loss: 0.3121 - val_accuracy: 0.8685\n",
            "Epoch 4/100\n",
            "452/452 [==============================] - 22s 49ms/step - loss: 0.3104 - accuracy: 0.8701 - val_loss: 0.3070 - val_accuracy: 0.8713\n",
            "Epoch 5/100\n",
            "452/452 [==============================] - 22s 49ms/step - loss: 0.2977 - accuracy: 0.8764 - val_loss: 0.2954 - val_accuracy: 0.8778\n",
            "Epoch 6/100\n",
            "452/452 [==============================] - 22s 49ms/step - loss: 0.2896 - accuracy: 0.8806 - val_loss: 0.2962 - val_accuracy: 0.8768\n",
            "Epoch 7/100\n",
            "452/452 [==============================] - 22s 49ms/step - loss: 0.2839 - accuracy: 0.8835 - val_loss: 0.2875 - val_accuracy: 0.8808\n",
            "Epoch 8/100\n",
            "452/452 [==============================] - 22s 49ms/step - loss: 0.2785 - accuracy: 0.8860 - val_loss: 0.2849 - val_accuracy: 0.8829\n",
            "Epoch 9/100\n",
            "452/452 [==============================] - 22s 49ms/step - loss: 0.2726 - accuracy: 0.8887 - val_loss: 0.2884 - val_accuracy: 0.8825\n",
            "Epoch 10/100\n",
            "452/452 [==============================] - 22s 49ms/step - loss: 0.2677 - accuracy: 0.8906 - val_loss: 0.2844 - val_accuracy: 0.8838\n",
            "Epoch 11/100\n",
            "452/452 [==============================] - 22s 49ms/step - loss: 0.2749 - accuracy: 0.8874 - val_loss: 0.2922 - val_accuracy: 0.8813\n",
            "Epoch 12/100\n",
            "452/452 [==============================] - 22s 48ms/step - loss: 0.2631 - accuracy: 0.8922 - val_loss: 0.2834 - val_accuracy: 0.8839\n",
            "Epoch 13/100\n",
            "452/452 [==============================] - 22s 48ms/step - loss: 0.2577 - accuracy: 0.8956 - val_loss: 0.2828 - val_accuracy: 0.8852\n",
            "Epoch 14/100\n",
            "452/452 [==============================] - 22s 49ms/step - loss: 0.2541 - accuracy: 0.8973 - val_loss: 0.2871 - val_accuracy: 0.8829\n",
            "Epoch 15/100\n",
            "452/452 [==============================] - 23s 50ms/step - loss: 0.2510 - accuracy: 0.8986 - val_loss: 0.2808 - val_accuracy: 0.8845\n",
            "Epoch 16/100\n",
            "452/452 [==============================] - 22s 49ms/step - loss: 0.2472 - accuracy: 0.9007 - val_loss: 0.2931 - val_accuracy: 0.8805\n",
            "Epoch 17/100\n",
            "452/452 [==============================] - 22s 48ms/step - loss: 0.2445 - accuracy: 0.9015 - val_loss: 0.2851 - val_accuracy: 0.8834\n",
            "Epoch 18/100\n",
            "452/452 [==============================] - 22s 49ms/step - loss: 0.2413 - accuracy: 0.9034 - val_loss: 0.2901 - val_accuracy: 0.8835\n",
            "Epoch 19/100\n",
            "452/452 [==============================] - 22s 49ms/step - loss: 0.2377 - accuracy: 0.9050 - val_loss: 0.2926 - val_accuracy: 0.8821\n",
            "Epoch 20/100\n",
            "452/452 [==============================] - 22s 49ms/step - loss: 0.2346 - accuracy: 0.9064 - val_loss: 0.2891 - val_accuracy: 0.8836\n"
          ]
        }
      ],
      "source": [
        "h1 = model1.fit(x=X_train_seq, y=y_train, batch_size=512, epochs=100, validation_data=(X_val_seq, y_test),\n",
        "               callbacks=[es_callback])"
      ]
    },
    {
      "cell_type": "code",
      "execution_count": null,
      "metadata": {
        "colab": {
          "base_uri": "https://localhost:8080/",
          "height": 265
        },
        "id": "UK7oKb7-inup",
        "outputId": "2479d99b-ab5c-4d0e-daaf-9d5e413420cc"
      },
      "outputs": [
        {
          "data": {
            "image/png": "[encoded data removed]",
            "text/plain": [
              "<Figure size 432x288 with 1 Axes>"
            ]
          },
          "metadata": {
            "needs_background": "light"
          },
          "output_type": "display_data"
        }
      ],
      "source": [
        "steps = range(len(h1.history['loss']))\n",
        "plt.plot(steps, h1.history['loss'], label='train loss')\n",
        "plt.plot(steps, h1.history['val_loss'], label='val loss')\n",
        "plt.legend()\n",
        "plt.grid()"
      ]
    },
    {
      "cell_type": "markdown",
      "metadata": {
        "id": "88FR9DeWVoUs"
      },
      "source": [
        "Second model has higher accuracy for validation set, but difference isn't big"
      ]
    },
    {
      "cell_type": "code",
      "execution_count": null,
      "metadata": {
        "colab": {
          "base_uri": "https://localhost:8080/"
        },
        "id": "DHdUqf_n0tCl",
        "outputId": "63d82ef8-a3fc-4b18-ff2f-2d3fbb1eb096"
      },
      "outputs": [
        {
          "name": "stdout",
          "output_type": "stream",
          "text": [
            "Found 400000 word vectors.\n",
            "Converted 71604 words (58620 misses)\n"
          ]
        }
      ],
      "source": [
        "#third model with trainable Glove embeddings \n",
        "model2 = keras.Sequential()\n",
        "\n",
        "model2.add(GloveEmbeddings(embedding_dim=200, trainable=True, tokenizer=tokenizer))\n",
        "model2.add(layers.Bidirectional(layers.LSTM(30,return_sequences=True)))\n",
        "model2.add(layers.Dropout(0.5))\n",
        "model2.add(layers.Bidirectional(layers.LSTM(30)))\n",
        "model2.add(layers.Dropout(0.2))\n",
        "model2.add(layers.Dense(1, activation='sigmoid'))\n",
        "\n",
        "adam = keras.optimizers.Adam(learning_rate=0.001) # \n",
        "model2.compile(loss='binary_crossentropy', optimizer=adam, metrics=['accuracy'])"
      ]
    },
    {
      "cell_type": "code",
      "execution_count": null,
      "metadata": {
        "colab": {
          "base_uri": "https://localhost:8080/"
        },
        "id": "g6gby-vF13o_",
        "outputId": "761fb3c6-2481-4668-8de8-b5bc952649c5"
      },
      "outputs": [
        {
          "name": "stdout",
          "output_type": "stream",
          "text": [
            "Epoch 1/100\n",
            "452/452 [==============================] - 47s 88ms/step - loss: 0.4117 - accuracy: 0.8212 - val_loss: 0.3067 - val_accuracy: 0.8748\n",
            "Epoch 2/100\n",
            "452/452 [==============================] - 37s 82ms/step - loss: 0.2902 - accuracy: 0.8829 - val_loss: 0.2909 - val_accuracy: 0.8813\n",
            "Epoch 3/100\n",
            "452/452 [==============================] - 38s 83ms/step - loss: 0.2701 - accuracy: 0.8913 - val_loss: 0.2970 - val_accuracy: 0.8808\n",
            "Epoch 4/100\n",
            "452/452 [==============================] - 37s 82ms/step - loss: 0.2556 - accuracy: 0.8975 - val_loss: 0.2858 - val_accuracy: 0.8829\n",
            "Epoch 5/100\n",
            "452/452 [==============================] - 37s 81ms/step - loss: 0.2439 - accuracy: 0.9023 - val_loss: 0.2850 - val_accuracy: 0.8824\n",
            "Epoch 6/100\n",
            "452/452 [==============================] - 36s 81ms/step - loss: 0.2300 - accuracy: 0.9081 - val_loss: 0.2994 - val_accuracy: 0.8788\n",
            "Epoch 7/100\n",
            "452/452 [==============================] - 37s 82ms/step - loss: 0.2146 - accuracy: 0.9142 - val_loss: 0.3123 - val_accuracy: 0.8803\n",
            "Epoch 8/100\n",
            "452/452 [==============================] - 36s 81ms/step - loss: 0.1972 - accuracy: 0.9206 - val_loss: 0.3362 - val_accuracy: 0.8748\n",
            "Epoch 9/100\n",
            "452/452 [==============================] - 37s 81ms/step - loss: 0.1791 - accuracy: 0.9282 - val_loss: 0.3753 - val_accuracy: 0.8761\n",
            "Epoch 10/100\n",
            "452/452 [==============================] - 37s 83ms/step - loss: 0.1619 - accuracy: 0.9351 - val_loss: 0.3778 - val_accuracy: 0.8735\n"
          ]
        }
      ],
      "source": [
        "es_callback = keras.callbacks.EarlyStopping(monitor='val_loss', patience=5)\n",
        "\n",
        "h2 = model2.fit(x=X_train_seq, y=y_train, batch_size=512, epochs=100, validation_data=(X_val_seq, y_test),\n",
        "               callbacks=[es_callback])"
      ]
    },
    {
      "cell_type": "code",
      "execution_count": null,
      "metadata": {
        "colab": {
          "base_uri": "https://localhost:8080/",
          "height": 265
        },
        "id": "08FWpMHP22z4",
        "outputId": "cf3e9ead-6245-4ee3-f63e-d65232c6b71a"
      },
      "outputs": [
        {
          "data": {
            "image/png": "[encoded data removed]",
            "text/plain": [
              "<Figure size 432x288 with 1 Axes>"
            ]
          },
          "metadata": {
            "needs_background": "light"
          },
          "output_type": "display_data"
        }
      ],
      "source": [
        "steps = range(len(h2.history['loss']))\n",
        "plt.plot(steps, h2.history['loss'], label='train loss')\n",
        "plt.plot(steps, h2.history['val_loss'], label='val loss')\n",
        "plt.legend()\n",
        "plt.grid()"
      ]
    },
    {
      "cell_type": "markdown",
      "metadata": {
        "id": "PxqWA4giVoUt"
      },
      "source": [
        "That change didn't improve our result, and model was overfitted"
      ]
    },
    {
      "cell_type": "markdown",
      "metadata": {
        "id": "RVyOP5vVC5MG"
      },
      "source": [
        "Model with deleted stop words"
      ]
    },
    {
      "cell_type": "code",
      "execution_count": null,
      "metadata": {
        "colab": {
          "base_uri": "https://localhost:8080/"
        },
        "id": "vnHJyEb807cO",
        "outputId": "846877d6-f358-4482-9ac9-11ff833e5758"
      },
      "outputs": [
        {
          "name": "stderr",
          "output_type": "stream",
          "text": [
            "[nltk_data] Downloading package stopwords to /root/nltk_data...\n",
            "[nltk_data]   Package stopwords is already up-to-date!\n"
          ]
        }
      ],
      "source": [
        "import nltk\n",
        "from nltk.corpus import stopwords\n",
        "nltk.download('stopwords')\n",
        "stop_words = set(stopwords.words('english'))\n",
        "normalized_toxic['comment_text'] = normalized_toxic['comment_text'].apply(lambda x: ' '.join([word for word in x.lower().split() if word not in (stop_words)]))\n"
      ]
    },
    {
      "cell_type": "code",
      "execution_count": null,
      "metadata": {
        "id": "QB-S3BZuCVY2"
      },
      "outputs": [],
      "source": [
        "# let's create train and test set\n",
        "y = normalized_toxic['binary_target'].values\n",
        "X = normalized_toxic['comment_text'].values\n",
        "\n",
        "X_train, X_test, y_train, y_test = train_test_split(X, y, test_size=0.2, random_state=100, stratify=y)\n"
      ]
    },
    {
      "cell_type": "code",
      "execution_count": null,
      "metadata": {
        "id": "nmE9pKQ_xhkH"
      },
      "outputs": [],
      "source": [
        "tokenizer = Tokenizer(num_words=15000, lower=True)\n",
        "tokenizer.fit_on_texts(X_train)\n",
        "\n",
        "X_train_seq = tokenizer.texts_to_sequences(X_train)\n",
        "X_val_seq = tokenizer.texts_to_sequences(X_test)\n",
        "\n",
        "X_train_seq = pad_sequences(X_train_seq, maxlen=200, padding='pre', truncating='pre') # pre or post\n",
        "X_val_seq = pad_sequences(X_val_seq, maxlen=200, padding='pre', truncating='pre') # pre or post"
      ]
    },
    {
      "cell_type": "code",
      "execution_count": null,
      "metadata": {
        "colab": {
          "base_uri": "https://localhost:8080/"
        },
        "id": "yF3UfifJyjWw",
        "outputId": "d0c9a357-82de-4cc5-9d67-6555181198ab"
      },
      "outputs": [
        {
          "name": "stdout",
          "output_type": "stream",
          "text": [
            "Found 400000 word vectors.\n",
            "Converted 71605 words (58401 misses)\n"
          ]
        }
      ],
      "source": [
        "model11 = keras.Sequential()\n",
        "\n",
        "model11.add(GloveEmbeddings(embedding_dim=200, trainable=False, tokenizer=tokenizer))\n",
        "model11.add(layers.Bidirectional(layers.LSTM(30,return_sequences=True)))   #20\n",
        "model11.add(layers.Dropout(0.3)) #0.2\n",
        "model11.add(layers.LSTM(30)) #20\n",
        "model11.add(layers.Dropout(0.2)) #-\n",
        "model11.add(layers.Dense(1, activation='sigmoid'))\n",
        "\n",
        "adam = keras.optimizers.Adam(learning_rate=0.001) # \n",
        "model11.compile(loss='binary_crossentropy', optimizer=adam, metrics=['accuracy'])"
      ]
    },
    {
      "cell_type": "code",
      "execution_count": null,
      "metadata": {
        "colab": {
          "base_uri": "https://localhost:8080/"
        },
        "id": "DqPQwQuHyjPQ",
        "outputId": "3943e0c0-4268-4ab6-ecf1-16249d107d4a"
      },
      "outputs": [
        {
          "name": "stdout",
          "output_type": "stream",
          "text": [
            "Epoch 1/100\n",
            "452/452 [==============================] - 34s 49ms/step - loss: 0.4006 - accuracy: 0.8204 - val_loss: 0.3376 - val_accuracy: 0.8577\n",
            "Epoch 2/100\n",
            "452/452 [==============================] - 21s 46ms/step - loss: 0.3213 - accuracy: 0.8649 - val_loss: 0.3114 - val_accuracy: 0.8699\n",
            "Epoch 3/100\n",
            "452/452 [==============================] - 21s 47ms/step - loss: 0.3016 - accuracy: 0.8749 - val_loss: 0.3295 - val_accuracy: 0.8644\n",
            "Epoch 4/100\n",
            "452/452 [==============================] - 21s 47ms/step - loss: 0.2909 - accuracy: 0.8806 - val_loss: 0.2980 - val_accuracy: 0.8769\n",
            "Epoch 5/100\n",
            "452/452 [==============================] - 21s 48ms/step - loss: 0.2839 - accuracy: 0.8836 - val_loss: 0.2932 - val_accuracy: 0.8784\n",
            "Epoch 6/100\n",
            "452/452 [==============================] - 22s 48ms/step - loss: 0.2773 - accuracy: 0.8861 - val_loss: 0.2963 - val_accuracy: 0.8802\n",
            "Epoch 7/100\n",
            "452/452 [==============================] - 21s 47ms/step - loss: 0.2725 - accuracy: 0.8887 - val_loss: 0.2923 - val_accuracy: 0.8803\n",
            "Epoch 8/100\n",
            "452/452 [==============================] - 22s 48ms/step - loss: 0.2677 - accuracy: 0.8913 - val_loss: 0.2943 - val_accuracy: 0.8782\n",
            "Epoch 9/100\n",
            "452/452 [==============================] - 22s 48ms/step - loss: 0.2641 - accuracy: 0.8930 - val_loss: 0.2938 - val_accuracy: 0.8784\n",
            "Epoch 10/100\n",
            "452/452 [==============================] - 22s 49ms/step - loss: 0.2591 - accuracy: 0.8950 - val_loss: 0.2920 - val_accuracy: 0.8807\n",
            "Epoch 11/100\n",
            "452/452 [==============================] - 22s 48ms/step - loss: 0.2553 - accuracy: 0.8969 - val_loss: 0.2922 - val_accuracy: 0.8790\n",
            "Epoch 12/100\n",
            "452/452 [==============================] - 22s 48ms/step - loss: 0.2517 - accuracy: 0.8984 - val_loss: 0.3034 - val_accuracy: 0.8785\n",
            "Epoch 13/100\n",
            "452/452 [==============================] - 22s 48ms/step - loss: 0.2483 - accuracy: 0.9000 - val_loss: 0.2979 - val_accuracy: 0.8798\n",
            "Epoch 14/100\n",
            "452/452 [==============================] - 22s 48ms/step - loss: 0.2443 - accuracy: 0.9018 - val_loss: 0.2986 - val_accuracy: 0.8800\n",
            "Epoch 15/100\n",
            "452/452 [==============================] - 21s 47ms/step - loss: 0.2410 - accuracy: 0.9031 - val_loss: 0.2990 - val_accuracy: 0.8787\n"
          ]
        }
      ],
      "source": [
        "es_callback = keras.callbacks.EarlyStopping(monitor='val_loss', patience=5)\n",
        "\n",
        "h11 = model11.fit(x=X_train_seq, y=y_train, batch_size=512, epochs=100, validation_data=(X_val_seq, y_test),\n",
        "               callbacks=[es_callback])"
      ]
    },
    {
      "cell_type": "code",
      "execution_count": null,
      "metadata": {
        "colab": {
          "base_uri": "https://localhost:8080/",
          "height": 265
        },
        "id": "MzcsogdNyjDH",
        "outputId": "13e42497-3908-4c45-b480-4b660aee2fae"
      },
      "outputs": [
        {
          "data": {
            "image/png": "[encoded data removed]",
            "text/plain": [
              "<Figure size 432x288 with 1 Axes>"
            ]
          },
          "metadata": {
            "needs_background": "light"
          },
          "output_type": "display_data"
        }
      ],
      "source": [
        "steps = range(len(h11.history['loss']))\n",
        "plt.plot(steps, h11.history['loss'], label='train loss')\n",
        "plt.plot(steps, h11.history['val_loss'], label='val loss')\n",
        "plt.legend()\n",
        "plt.grid()"
      ]
    },
    {
      "cell_type": "markdown",
      "metadata": {
        "id": "0X1xKb4Iyi4B"
      },
      "source": [
        "Model with deleted stop words wasn't better from previous models"
      ]
    },
    {
      "cell_type": "markdown",
      "metadata": {
        "id": "9RgzOS1nPfoE"
      },
      "source": [
        "Now I will create model to predict exact toxicity. For this model all the data will be used."
      ]
    },
    {
      "cell_type": "code",
      "execution_count": 6,
      "metadata": {
        "id": "IIJ7F3HpPfC8"
      },
      "outputs": [],
      "source": [
        "#  let's create train and test set\n",
        "y = toxic['target'].values\n",
        "X = toxic['comment_text'].values\n",
        "\n",
        "X_train, X_test, y_train, y_test = train_test_split(X, y, test_size=0.2, random_state=100)\n"
      ]
    },
    {
      "cell_type": "code",
      "execution_count": null,
      "metadata": {
        "colab": {
          "base_uri": "https://localhost:8080/",
          "height": 320
        },
        "id": "ydiPp2tmQjld",
        "outputId": "32ebb8f7-ad1a-42fd-b227-5a7d38bd61c9"
      },
      "outputs": [
        {
          "name": "stderr",
          "output_type": "stream",
          "text": [
            "/usr/local/lib/python3.7/dist-packages/seaborn/distributions.py:2619: FutureWarning: `distplot` is a deprecated function and will be removed in a future version. Please adapt your code to use either `displot` (a figure-level function with similar flexibility) or `histplot` (an axes-level function for histograms).\n",
            "  warnings.warn(msg, FutureWarning)\n"
          ]
        },
        {
          "data": {
            "image/png": "[encoded data removed]",
            "text/plain": [
              "<Figure size 432x288 with 1 Axes>"
            ]
          },
          "metadata": {
            "needs_background": "light"
          },
          "output_type": "display_data"
        }
      ],
      "source": [
        "train_lens = [len(x.split()) for x in X_train]\n",
        "ax = sns.distplot(train_lens)"
      ]
    },
    {
      "cell_type": "code",
      "execution_count": 7,
      "metadata": {
        "id": "ADtRDvcKQeiW"
      },
      "outputs": [],
      "source": [
        "tokenizer = Tokenizer(num_words=15000, lower=True)\n",
        "tokenizer.fit_on_texts(X_train)\n",
        "\n",
        "X_train_seq = tokenizer.texts_to_sequences(X_train)\n",
        "X_val_seq = tokenizer.texts_to_sequences(X_test)\n",
        "\n",
        "X_train_seq = pad_sequences(X_train_seq, maxlen=200, padding='pre', truncating='pre') # pre or post\n",
        "X_val_seq = pad_sequences(X_val_seq, maxlen=200, padding='pre', truncating='pre') # pre or post\n"
      ]
    },
    {
      "cell_type": "code",
      "execution_count": null,
      "metadata": {
        "id": "7soTihlDStBK"
      },
      "outputs": [],
      "source": [
        "vocab_size = len(tokenizer.word_index) + 1\n",
        "embedding_vector_length = 16"
      ]
    },
    {
      "cell_type": "code",
      "execution_count": null,
      "metadata": {
        "id": "oslr1DukSy5E"
      },
      "outputs": [],
      "source": [
        "#model for predicting exact toxicity\n",
        "model4 = keras.Sequential()\n",
        "\n",
        "model4.add(layers.Embedding(vocab_size, embedding_vector_length, input_length=200) )\n",
        "model4.add(layers.Bidirectional(layers.LSTM(30,return_sequences=True)))\n",
        "model4.add(layers.Dropout(0.5))\n",
        "model4.add(layers.Bidirectional(layers.LSTM(30)))\n",
        "model4.add(layers.Dropout(0.2))\n",
        "model4.add(layers.Dense(1, activation='linear'))\n",
        "\n",
        "adam = keras.optimizers.Adam(learning_rate=0.001) # \n",
        "model4.compile(loss='mean_absolute_error', optimizer=adam, metrics=['mean_absolute_error'])\n"
      ]
    },
    {
      "cell_type": "code",
      "execution_count": null,
      "metadata": {
        "colab": {
          "base_uri": "https://localhost:8080/"
        },
        "id": "C3fg0I5tSzqy",
        "outputId": "234cf028-efcc-475c-9765-da9346505498"
      },
      "outputs": [
        {
          "name": "stdout",
          "output_type": "stream",
          "text": [
            "Epoch 1/100\n",
            "1411/1411 [==============================] - 122s 82ms/step - loss: 0.0836 - mean_absolute_error: 0.0836 - val_loss: 0.0693 - val_mean_absolute_error: 0.0693\n",
            "Epoch 2/100\n",
            "1411/1411 [==============================] - 115s 82ms/step - loss: 0.0703 - mean_absolute_error: 0.0703 - val_loss: 0.0674 - val_mean_absolute_error: 0.0674\n",
            "Epoch 3/100\n",
            "1411/1411 [==============================] - 114s 81ms/step - loss: 0.0677 - mean_absolute_error: 0.0677 - val_loss: 0.0667 - val_mean_absolute_error: 0.0667\n",
            "Epoch 4/100\n",
            "1411/1411 [==============================] - 114s 81ms/step - loss: 0.0665 - mean_absolute_error: 0.0665 - val_loss: 0.0660 - val_mean_absolute_error: 0.0660\n",
            "Epoch 5/100\n",
            "1411/1411 [==============================] - 122s 86ms/step - loss: 0.0656 - mean_absolute_error: 0.0656 - val_loss: 0.0665 - val_mean_absolute_error: 0.0665\n",
            "Epoch 6/100\n",
            "1411/1411 [==============================] - 115s 82ms/step - loss: 0.0648 - mean_absolute_error: 0.0648 - val_loss: 0.0664 - val_mean_absolute_error: 0.0664\n",
            "Epoch 7/100\n",
            "1411/1411 [==============================] - 115s 81ms/step - loss: 0.0646 - mean_absolute_error: 0.0646 - val_loss: 0.0657 - val_mean_absolute_error: 0.0657\n",
            "Epoch 8/100\n",
            "1411/1411 [==============================] - 116s 82ms/step - loss: 0.0639 - mean_absolute_error: 0.0639 - val_loss: 0.0658 - val_mean_absolute_error: 0.0658\n",
            "Epoch 9/100\n",
            "1411/1411 [==============================] - 115s 81ms/step - loss: 0.0633 - mean_absolute_error: 0.0633 - val_loss: 0.0657 - val_mean_absolute_error: 0.0657\n",
            "Epoch 10/100\n",
            "1411/1411 [==============================] - 116s 82ms/step - loss: 0.0628 - mean_absolute_error: 0.0628 - val_loss: 0.0660 - val_mean_absolute_error: 0.0660\n",
            "Epoch 11/100\n",
            "1411/1411 [==============================] - 116s 82ms/step - loss: 0.0624 - mean_absolute_error: 0.0624 - val_loss: 0.0659 - val_mean_absolute_error: 0.0659\n",
            "Epoch 12/100\n",
            "1411/1411 [==============================] - 115s 82ms/step - loss: 0.0620 - mean_absolute_error: 0.0620 - val_loss: 0.0661 - val_mean_absolute_error: 0.0661\n",
            "Epoch 13/100\n",
            "1411/1411 [==============================] - 118s 84ms/step - loss: 0.0617 - mean_absolute_error: 0.0617 - val_loss: 0.0663 - val_mean_absolute_error: 0.0663\n",
            "Epoch 14/100\n",
            "1411/1411 [==============================] - 116s 82ms/step - loss: 0.0614 - mean_absolute_error: 0.0614 - val_loss: 0.0664 - val_mean_absolute_error: 0.0664\n"
          ]
        }
      ],
      "source": [
        "es_callback = keras.callbacks.EarlyStopping(monitor='val_loss', patience=5)\n",
        "\n",
        "h4 = model4.fit(x=X_train_seq, y=y_train, batch_size=1024, epochs=100, validation_data=(X_val_seq, y_test),\n",
        "               callbacks=[es_callback])"
      ]
    },
    {
      "cell_type": "code",
      "execution_count": null,
      "metadata": {
        "colab": {
          "base_uri": "https://localhost:8080/",
          "height": 265
        },
        "id": "Rs4k6io9busK",
        "outputId": "bc575e35-c1e5-4c47-b458-ab07fec21a25"
      },
      "outputs": [
        {
          "data": {
            "image/png": "[encoded data removed]",
            "text/plain": [
              "<Figure size 432x288 with 1 Axes>"
            ]
          },
          "metadata": {
            "needs_background": "light"
          },
          "output_type": "display_data"
        }
      ],
      "source": [
        "steps = range(len(h4.history['loss']))\n",
        "plt.plot(steps, h4.history['loss'], label='train loss')\n",
        "plt.plot(steps, h4.history['val_loss'], label='val loss')\n",
        "plt.legend()\n",
        "plt.grid()"
      ]
    },
    {
      "cell_type": "code",
      "execution_count": null,
      "metadata": {
        "colab": {
          "base_uri": "https://localhost:8080/"
        },
        "id": "EP4UtownLLM2",
        "outputId": "455a2d34-c0cc-4067-b514-94aa07961cea"
      },
      "outputs": [
        {
          "name": "stdout",
          "output_type": "stream",
          "text": [
            "0.10349316410106624 0.0\n"
          ]
        }
      ],
      "source": [
        "print(y_test.mean(), np.median(y_test))"
      ]
    },
    {
      "cell_type": "markdown",
      "metadata": {
        "id": "3Az4-rDYVoUy"
      },
      "source": [
        "It looks like the mae for the model is quite high. Let's try how the decision tree is performing on this dataset."
      ]
    },
    {
      "cell_type": "code",
      "execution_count": 8,
      "metadata": {
        "colab": {
          "base_uri": "https://localhost:8080/"
        },
        "id": "N7SK-F9ZNt_W",
        "outputId": "8e0ccc6a-a9ea-43cd-bad3-fe279f3a2a17"
      },
      "outputs": [
        {
          "output_type": "stream",
          "name": "stdout",
          "text": [
            "Tree MAE: 0.13900396117404626\n"
          ]
        }
      ],
      "source": [
        "from sklearn.tree import DecisionTreeRegressor\n",
        "from sklearn.metrics import mean_absolute_error\n",
        "\n",
        "regr = DecisionTreeRegressor(max_depth=15, random_state=0)\n",
        "regr.fit(X_train_seq, y_train)\n",
        "\n",
        "y_pred = regr.predict(X_val_seq)\n",
        "mae = mean_absolute_error(y_test, y_pred)\n",
        "print(f'Tree MAE: {mae}')"
      ]
    },
    {
      "cell_type": "markdown",
      "source": [
        "Decision tree model is much worse than the neural network that I used."
      ],
      "metadata": {
        "id": "vCb1XtUHaeHz"
      }
    }
  ],
  "metadata": {
    "accelerator": "GPU",
    "colab": {
      "collapsed_sections": [],
      "provenance": []
    },
    "gpuClass": "standard",
    "kernelspec": {
      "display_name": "Python 3 (ipykernel)",
      "language": "python",
      "name": "python3"
    },
    "language_info": {
      "codemirror_mode": {
        "name": "ipython",
        "version": 3
      },
      "file_extension": ".py",
      "mimetype": "text/x-python",
      "name": "python",
      "nbconvert_exporter": "python",
      "pygments_lexer": "ipython3",
      "version": "3.10.4"
    }
  },
  "nbformat": 4,
  "nbformat_minor": 0
}